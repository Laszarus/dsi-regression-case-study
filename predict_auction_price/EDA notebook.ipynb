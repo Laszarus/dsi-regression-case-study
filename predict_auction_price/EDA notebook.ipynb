{
 "cells": [
  {
   "cell_type": "code",
   "execution_count": 1,
   "metadata": {},
   "outputs": [],
   "source": [
    "import pandas as pd\n",
    "import numpy as np"
   ]
  },
  {
   "cell_type": "code",
   "execution_count": 2,
   "metadata": {},
   "outputs": [
    {
     "name": "stderr",
     "output_type": "stream",
     "text": [
      "/home/mike/anaconda3/lib/python3.7/site-packages/IPython/core/interactiveshell.py:3049: DtypeWarning: Columns (13,39,40,41) have mixed types. Specify dtype option on import or set low_memory=False.\n",
      "  interactivity=interactivity, compiler=compiler, result=result)\n"
     ]
    }
   ],
   "source": [
    "df =pd.read_csv('data/Train.csv')\n"
   ]
  },
  {
   "cell_type": "code",
   "execution_count": 3,
   "metadata": {},
   "outputs": [],
   "source": [
    "df['saleyear'] = df['saledate'].str[-9:-4].astype('int32')\n",
    "df['age'] = df['saleyear'] - df['YearMade']\n",
    "df['Turbo_binary'] = df['Turbocharged'].map(lambda x: 1.0 if x == \"Yes\" else 0.0)"
   ]
  },
  {
   "cell_type": "code",
   "execution_count": 4,
   "metadata": {},
   "outputs": [],
   "source": [
    "column_list=df.columns\n",
    "data_list=[]\n",
    "for column in column_list:\n",
    "    temp_series= df[column].unique()\n",
    "    data_list.append(temp_series)   \n",
    "d= dict(zip(column_list, data_list))\n",
    "df2 = pd.DataFrame.from_dict(d, orient='index')\n",
    "unique= df2.transpose()"
   ]
  },
  {
   "cell_type": "code",
   "execution_count": 5,
   "metadata": {},
   "outputs": [],
   "source": [
    "#df4=df[df['YearMade'] == '1000']"
   ]
  },
  {
   "cell_type": "code",
   "execution_count": 6,
   "metadata": {},
   "outputs": [],
   "source": [
    "pd.set_option('display.max_columns',100)"
   ]
  },
  {
   "cell_type": "code",
   "execution_count": 7,
   "metadata": {
    "scrolled": true
   },
   "outputs": [
    {
     "ename": "NameError",
     "evalue": "name 'df4' is not defined",
     "output_type": "error",
     "traceback": [
      "\u001b[0;31m---------------------------------------------------------------------------\u001b[0m",
      "\u001b[0;31mNameError\u001b[0m                                 Traceback (most recent call last)",
      "\u001b[0;32m<ipython-input-7-76ff3d0fe310>\u001b[0m in \u001b[0;36m<module>\u001b[0;34m\u001b[0m\n\u001b[0;32m----> 1\u001b[0;31m \u001b[0mdf4\u001b[0m\u001b[0;34m.\u001b[0m\u001b[0minfo\u001b[0m\u001b[0;34m(\u001b[0m\u001b[0;34m)\u001b[0m\u001b[0;34m\u001b[0m\u001b[0;34m\u001b[0m\u001b[0m\n\u001b[0m",
      "\u001b[0;31mNameError\u001b[0m: name 'df4' is not defined"
     ]
    }
   ],
   "source": [
    "df4.info()"
   ]
  },
  {
   "cell_type": "code",
   "execution_count": null,
   "metadata": {
    "scrolled": true
   },
   "outputs": [],
   "source": [
    "unique\n"
   ]
  },
  {
   "cell_type": "code",
   "execution_count": null,
   "metadata": {},
   "outputs": [],
   "source": [
    "df.info()"
   ]
  },
  {
   "cell_type": "code",
   "execution_count": null,
   "metadata": {},
   "outputs": [],
   "source": [
    "Four Wheel Drive = 32996\n",
    "'Two Wheel Drive = 46139/8\n",
    "All Wheel Drive = 798\n",
    "No = 24428\n",
    "\n"
   ]
  },
  {
   "cell_type": "code",
   "execution_count": null,
   "metadata": {},
   "outputs": [],
   "source": [
    "unique.info()"
   ]
  },
  {
   "cell_type": "code",
   "execution_count": null,
   "metadata": {},
   "outputs": [],
   "source": [
    "df.info()"
   ]
  },
  {
   "cell_type": "code",
   "execution_count": null,
   "metadata": {},
   "outputs": [],
   "source": [
    "df_dropped = df.dropna(subset=['Drive_System'])\n"
   ]
  },
  {
   "cell_type": "code",
   "execution_count": null,
   "metadata": {},
   "outputs": [],
   "source": [
    "df_dropped.info()"
   ]
  },
  {
   "cell_type": "code",
   "execution_count": null,
   "metadata": {},
   "outputs": [],
   "source": [
    "column_list=df_dropped.columns\n",
    "data_list=[]\n",
    "for column in column_list:\n",
    "    temp_series= df_dropped[column].unique()\n",
    "    data_list.append(temp_series)   \n",
    "d= dict(zip(column_list, data_list))\n",
    "df6 = pd.DataFrame.from_dict(d, orient='index')\n",
    "unique= df6.transpose()"
   ]
  },
  {
   "cell_type": "code",
   "execution_count": null,
   "metadata": {},
   "outputs": [],
   "source": [
    "unique.info()"
   ]
  },
  {
   "cell_type": "code",
   "execution_count": 14,
   "metadata": {},
   "outputs": [],
   "source": [
    "df_dropped2 = df.dropna(subset=['SalesID','age','Enclosure','ProductGroup'])"
   ]
  },
  {
   "cell_type": "code",
   "execution_count": 15,
   "metadata": {},
   "outputs": [
    {
     "name": "stdout",
     "output_type": "stream",
     "text": [
      "<class 'pandas.core.frame.DataFrame'>\n",
      "Int64Index: 400800 entries, 0 to 401124\n",
      "Data columns (total 56 columns):\n",
      "SalesID                     400800 non-null int64\n",
      "SalePrice                   400800 non-null int64\n",
      "MachineID                   400800 non-null int64\n",
      "ModelID                     400800 non-null int64\n",
      "datasource                  400800 non-null int64\n",
      "auctioneerID                380668 non-null float64\n",
      "YearMade                    400800 non-null int64\n",
      "MachineHoursCurrentMeter    142672 non-null float64\n",
      "UsageBand                   69608 non-null object\n",
      "saledate                    400800 non-null object\n",
      "fiModelDesc                 400800 non-null object\n",
      "fiBaseModel                 400800 non-null object\n",
      "fiSecondaryDesc             263729 non-null object\n",
      "fiModelSeries               56734 non-null object\n",
      "fiModelDescriptor           71865 non-null object\n",
      "ProductSize                 190095 non-null object\n",
      "fiProductClassDesc          400800 non-null object\n",
      "state                       400800 non-null object\n",
      "ProductGroup                400800 non-null object\n",
      "ProductGroupDesc            400800 non-null object\n",
      "Drive_System                104361 non-null object\n",
      "Enclosure                   400800 non-null object\n",
      "Forks                       192077 non-null object\n",
      "Pad_Type                    79134 non-null object\n",
      "Ride_Control                148606 non-null object\n",
      "Stick                       79134 non-null object\n",
      "Transmission                183230 non-null object\n",
      "Turbocharged                79134 non-null object\n",
      "Blade_Extension             25219 non-null object\n",
      "Blade_Width                 25219 non-null object\n",
      "Enclosure_Type              25219 non-null object\n",
      "Engine_Horsepower           25219 non-null object\n",
      "Hydraulics                  320570 non-null object\n",
      "Pushblock                   25219 non-null object\n",
      "Ripper                      104137 non-null object\n",
      "Scarifier                   25230 non-null object\n",
      "Tip_Control                 25219 non-null object\n",
      "Tire_Size                   94718 non-null object\n",
      "Coupler                     213952 non-null object\n",
      "Coupler_System              43458 non-null object\n",
      "Grouser_Tracks              43362 non-null object\n",
      "Hydraulics_Flow             43362 non-null object\n",
      "Track_Type                  99153 non-null object\n",
      "Undercarriage_Pad_Width     99872 non-null object\n",
      "Stick_Length                99218 non-null object\n",
      "Thumb                       99288 non-null object\n",
      "Pattern_Changer             99218 non-null object\n",
      "Grouser_Type                99153 non-null object\n",
      "Backhoe_Mounting            78672 non-null object\n",
      "Blade_Type                  79833 non-null object\n",
      "Travel_Controls             79834 non-null object\n",
      "Differential_Type           69411 non-null object\n",
      "Steering_Controls           69369 non-null object\n",
      "saleyear                    400800 non-null int32\n",
      "age                         400800 non-null int64\n",
      "Turbo_binary                400800 non-null float64\n",
      "dtypes: float64(3), int32(1), int64(7), object(45)\n",
      "memory usage: 172.8+ MB\n"
     ]
    }
   ],
   "source": [
    "df_dropped2.info()"
   ]
  },
  {
   "cell_type": "code",
   "execution_count": null,
   "metadata": {},
   "outputs": [],
   "source": []
  }
 ],
 "metadata": {
  "kernelspec": {
   "display_name": "Python 3",
   "language": "python",
   "name": "python3"
  },
  "language_info": {
   "codemirror_mode": {
    "name": "ipython",
    "version": 3
   },
   "file_extension": ".py",
   "mimetype": "text/x-python",
   "name": "python",
   "nbconvert_exporter": "python",
   "pygments_lexer": "ipython3",
   "version": "3.7.3"
  }
 },
 "nbformat": 4,
 "nbformat_minor": 2
}
